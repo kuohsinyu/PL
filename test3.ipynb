{
 "cells": [
  {
   "cell_type": "code",
   "execution_count": 5,
   "id": "f79e23b9",
   "metadata": {},
   "outputs": [
    {
     "name": "stdout",
     "output_type": "stream",
     "text": [
      "   Age          Workclass  Income   Education  Education-Num  \\\n",
      "0   39          State-gov   77516   Bachelors             13   \n",
      "1   50   Self-emp-not-inc   83311   Bachelors             13   \n",
      "2   38            Private  215646     HS-grad              9   \n",
      "3   53            Private  234721        11th              7   \n",
      "4   28            Private  338409   Bachelors             13   \n",
      "\n",
      "        Marital Status          Occupation    Relationship    Race      Sex  \\\n",
      "0        Never-married        Adm-clerical   Not-in-family   White     Male   \n",
      "1   Married-civ-spouse     Exec-managerial         Husband   White     Male   \n",
      "2             Divorced   Handlers-cleaners   Not-in-family   White     Male   \n",
      "3   Married-civ-spouse   Handlers-cleaners         Husband   Black     Male   \n",
      "4   Married-civ-spouse      Prof-specialty            Wife   Black   Female   \n",
      "\n",
      "   Capital Gain  Capital Loss  Hours per Week  Native Country  \n",
      "0          2174             0              40   United-States  \n",
      "1             0             0              13   United-States  \n",
      "2             0             0              40   United-States  \n",
      "3             0             0              40   United-States  \n",
      "4             0             0              40            Cuba  \n",
      "平均薪資: 189778.36651208502\n",
      "薪資標準差: 105548.3568808909\n",
      "薪資中位數: 178356.0\n"
     ]
    },
    {
     "ename": "AttributeError",
     "evalue": "'function' object has no attribute 'POSITION'",
     "output_type": "error",
     "traceback": [
      "\u001b[0;31m---------------------------------------------------------------------------\u001b[0m",
      "\u001b[0;31mAttributeError\u001b[0m                            Traceback (most recent call last)",
      "Cell \u001b[0;32mIn[5], line 25\u001b[0m\n\u001b[1;32m     22\u001b[0m \u001b[38;5;28mprint\u001b[39m(\u001b[38;5;124m'\u001b[39m\u001b[38;5;124m薪資標準差:\u001b[39m\u001b[38;5;124m'\u001b[39m, std_salary)\n\u001b[1;32m     23\u001b[0m \u001b[38;5;28mprint\u001b[39m(\u001b[38;5;124m'\u001b[39m\u001b[38;5;124m薪資中位數:\u001b[39m\u001b[38;5;124m'\u001b[39m, median_salary)\n\u001b[0;32m---> 25\u001b[0m plt\u001b[38;5;241m.\u001b[39mbar(pd\u001b[38;5;241m.\u001b[39mread_csv\u001b[38;5;241m.\u001b[39mPOSITION\u001b[38;5;241m.\u001b[39munique(),\n\u001b[1;32m     26\u001b[0m         pd\u001b[38;5;241m.\u001b[39mread_csv\u001b[38;5;241m.\u001b[39mPOSITION\u001b[38;5;241m.\u001b[39mvalue_counts(), \n\u001b[1;32m     27\u001b[0m         width\u001b[38;5;241m=\u001b[39m\u001b[38;5;241m0.5\u001b[39m, \n\u001b[1;32m     28\u001b[0m         bottom\u001b[38;5;241m=\u001b[39m\u001b[38;5;28;01mNone\u001b[39;00m, \n\u001b[1;32m     29\u001b[0m         align\u001b[38;5;241m=\u001b[39m\u001b[38;5;124m'\u001b[39m\u001b[38;5;124mcenter\u001b[39m\u001b[38;5;124m'\u001b[39m, \n\u001b[1;32m     30\u001b[0m         color\u001b[38;5;241m=\u001b[39m[\u001b[38;5;124m'\u001b[39m\u001b[38;5;124mlightsteelblue\u001b[39m\u001b[38;5;124m'\u001b[39m, \n\u001b[1;32m     31\u001b[0m                \u001b[38;5;124m'\u001b[39m\u001b[38;5;124mcornflowerblue\u001b[39m\u001b[38;5;124m'\u001b[39m, \n\u001b[1;32m     32\u001b[0m                \u001b[38;5;124m'\u001b[39m\u001b[38;5;124mroyalblue\u001b[39m\u001b[38;5;124m'\u001b[39m, \n\u001b[1;32m     33\u001b[0m                \u001b[38;5;124m'\u001b[39m\u001b[38;5;124mmidnightblue\u001b[39m\u001b[38;5;124m'\u001b[39m, \n\u001b[1;32m     34\u001b[0m                \u001b[38;5;124m'\u001b[39m\u001b[38;5;124mnavy\u001b[39m\u001b[38;5;124m'\u001b[39m, \n\u001b[1;32m     35\u001b[0m                \u001b[38;5;124m'\u001b[39m\u001b[38;5;124mdarkblue\u001b[39m\u001b[38;5;124m'\u001b[39m, \n\u001b[1;32m     36\u001b[0m                \u001b[38;5;124m'\u001b[39m\u001b[38;5;124mmediumblue\u001b[39m\u001b[38;5;124m'\u001b[39m])\n\u001b[1;32m     37\u001b[0m plt\u001b[38;5;241m.\u001b[39mxticks(rotation\u001b[38;5;241m=\u001b[39m\u001b[38;5;124m'\u001b[39m\u001b[38;5;124mvertical\u001b[39m\u001b[38;5;124m'\u001b[39m)\n\u001b[1;32m     38\u001b[0m plt\u001b[38;5;241m.\u001b[39mshow()\n",
      "\u001b[0;31mAttributeError\u001b[0m: 'function' object has no attribute 'POSITION'"
     ]
    }
   ],
   "source": [
    "import pandas as pd\n",
    "import numpy as np\n",
    "import matplotlib.pyplot as plt\n",
    "\n",
    "# 讀取 CSV 文件並轉換為 DataFrame\n",
    "df = pd.read_csv('adult.csv')\n",
    "\n",
    "# 顯示前幾行數據\n",
    "print(df.head())\n",
    "\n",
    "# 計算薪資的平均值\n",
    "mean_salary = np.mean(df['Income'])\n",
    "\n",
    "# 計算薪資的標準差\n",
    "std_salary = np.std(df['Income'])\n",
    "\n",
    "# 計算薪資的中位數\n",
    "median_salary = np.median(df['Income'])\n",
    "\n",
    "# 打印結果\n",
    "print('平均薪資:', mean_salary)\n",
    "print('薪資標準差:', std_salary)\n",
    "print('薪資中位數:', median_salary)\n",
    "\n",
    "plt.bar(pd.read_csv.POSITION.unique(),\n",
    "        pd.read_csv.POSITION.value_counts(), \n",
    "        width=0.5, \n",
    "        bottom=None, \n",
    "        align='center', \n",
    "        color=['lightsteelblue', \n",
    "               'cornflowerblue', \n",
    "               'royalblue', \n",
    "               'midnightblue', \n",
    "               'navy', \n",
    "               'darkblue', \n",
    "               'mediumblue'])\n",
    "plt.xticks(rotation='vertical')\n",
    "plt.show()"
   ]
  },
  {
   "cell_type": "code",
   "execution_count": null,
   "id": "1ed6954d",
   "metadata": {},
   "outputs": [],
   "source": []
  }
 ],
 "metadata": {
  "kernelspec": {
   "display_name": "Python 3 (ipykernel)",
   "language": "python",
   "name": "python3"
  },
  "language_info": {
   "codemirror_mode": {
    "name": "ipython",
    "version": 3
   },
   "file_extension": ".py",
   "mimetype": "text/x-python",
   "name": "python",
   "nbconvert_exporter": "python",
   "pygments_lexer": "ipython3",
   "version": "3.11.5"
  }
 },
 "nbformat": 4,
 "nbformat_minor": 5
}
