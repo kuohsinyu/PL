{
 "cells": [
  {
   "cell_type": "code",
   "execution_count": null,
   "id": "99823101",
   "metadata": {},
   "outputs": [
    {
     "ename": "",
     "evalue": "",
     "output_type": "error",
     "traceback": [
      "\u001b[1;31m無法啟動 Kernel。 \n",
      "\u001b[1;31mCannot read properties of undefined (reading 'path'). \n",
      "\u001b[1;31m如需詳細資料，請檢視 Jupyter <a href='command:jupyter.viewOutput'>記錄</a>。"
     ]
    }
   ],
   "source": [
    "import csv\n",
    "\n",
    "d = dict()\n",
    "with open('adult.csv') as csvfile:\n",
    "  # 解析內容\n",
    "  rows = list(csv.reader(csvfile))\n",
    "  for row in rows[1:]:\n",
    "    # print(row[2][:3], row[4])\n",
    "    if row[2][:3] not in d:\n",
    "      d[row[2][:3]] = 0\n",
    "    d[row[2][:3]] = d[row[2][:3]] + int(row[4])\n",
    "\n",
    "print(d)"
   ]
  }
 ],
 "metadata": {
  "kernelspec": {
   "display_name": "Python 3 (ipykernel)",
   "language": "python",
   "name": "python3"
  },
  "language_info": {
   "codemirror_mode": {
    "name": "ipython",
    "version": 3
   },
   "file_extension": ".py",
   "mimetype": "text/x-python",
   "name": "python",
   "nbconvert_exporter": "python",
   "pygments_lexer": "ipython3",
   "version": "3.11.5"
  }
 },
 "nbformat": 4,
 "nbformat_minor": 5
}
