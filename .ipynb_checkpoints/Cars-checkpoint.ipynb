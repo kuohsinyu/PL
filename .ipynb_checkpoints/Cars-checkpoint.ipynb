{
 "cells": [
  {
   "cell_type": "code",
   "execution_count": 2,
   "id": "eeebded0",
   "metadata": {},
   "outputs": [
    {
     "data": {
      "text/html": [
       "<div>\n",
       "<style scoped>\n",
       "    .dataframe tbody tr th:only-of-type {\n",
       "        vertical-align: middle;\n",
       "    }\n",
       "\n",
       "    .dataframe tbody tr th {\n",
       "        vertical-align: top;\n",
       "    }\n",
       "\n",
       "    .dataframe thead th {\n",
       "        text-align: right;\n",
       "    }\n",
       "</style>\n",
       "<table border=\"1\" class=\"dataframe\">\n",
       "  <thead>\n",
       "    <tr style=\"text-align: right;\">\n",
       "      <th></th>\n",
       "      <th>model</th>\n",
       "      <th>year</th>\n",
       "      <th>price</th>\n",
       "      <th>transmission</th>\n",
       "      <th>mileage</th>\n",
       "      <th>fuelType</th>\n",
       "      <th>tax</th>\n",
       "      <th>mpg</th>\n",
       "      <th>engineSize</th>\n",
       "      <th>Manufacturer</th>\n",
       "    </tr>\n",
       "  </thead>\n",
       "  <tbody>\n",
       "    <tr>\n",
       "      <th>0</th>\n",
       "      <td>I10</td>\n",
       "      <td>2017</td>\n",
       "      <td>7495</td>\n",
       "      <td>Manual</td>\n",
       "      <td>11630</td>\n",
       "      <td>Petrol</td>\n",
       "      <td>145</td>\n",
       "      <td>60.1</td>\n",
       "      <td>1.0</td>\n",
       "      <td>hyundi</td>\n",
       "    </tr>\n",
       "    <tr>\n",
       "      <th>1</th>\n",
       "      <td>Polo</td>\n",
       "      <td>2017</td>\n",
       "      <td>10989</td>\n",
       "      <td>Manual</td>\n",
       "      <td>9200</td>\n",
       "      <td>Petrol</td>\n",
       "      <td>145</td>\n",
       "      <td>58.9</td>\n",
       "      <td>1.0</td>\n",
       "      <td>volkswagen</td>\n",
       "    </tr>\n",
       "    <tr>\n",
       "      <th>2</th>\n",
       "      <td>2 Series</td>\n",
       "      <td>2019</td>\n",
       "      <td>27990</td>\n",
       "      <td>Semi-Auto</td>\n",
       "      <td>1614</td>\n",
       "      <td>Diesel</td>\n",
       "      <td>145</td>\n",
       "      <td>49.6</td>\n",
       "      <td>2.0</td>\n",
       "      <td>BMW</td>\n",
       "    </tr>\n",
       "    <tr>\n",
       "      <th>3</th>\n",
       "      <td>Yeti Outdoor</td>\n",
       "      <td>2017</td>\n",
       "      <td>12495</td>\n",
       "      <td>Manual</td>\n",
       "      <td>30960</td>\n",
       "      <td>Diesel</td>\n",
       "      <td>150</td>\n",
       "      <td>62.8</td>\n",
       "      <td>2.0</td>\n",
       "      <td>skoda</td>\n",
       "    </tr>\n",
       "    <tr>\n",
       "      <th>4</th>\n",
       "      <td>Fiesta</td>\n",
       "      <td>2017</td>\n",
       "      <td>7999</td>\n",
       "      <td>Manual</td>\n",
       "      <td>19353</td>\n",
       "      <td>Petrol</td>\n",
       "      <td>125</td>\n",
       "      <td>54.3</td>\n",
       "      <td>1.2</td>\n",
       "      <td>ford</td>\n",
       "    </tr>\n",
       "  </tbody>\n",
       "</table>\n",
       "</div>"
      ],
      "text/plain": [
       "           model  year  price transmission  mileage fuelType  tax   mpg  \\\n",
       "0            I10  2017   7495       Manual    11630   Petrol  145  60.1   \n",
       "1           Polo  2017  10989       Manual     9200   Petrol  145  58.9   \n",
       "2       2 Series  2019  27990    Semi-Auto     1614   Diesel  145  49.6   \n",
       "3   Yeti Outdoor  2017  12495       Manual    30960   Diesel  150  62.8   \n",
       "4         Fiesta  2017   7999       Manual    19353   Petrol  125  54.3   \n",
       "\n",
       "   engineSize Manufacturer  \n",
       "0         1.0       hyundi  \n",
       "1         1.0   volkswagen  \n",
       "2         2.0          BMW  \n",
       "3         2.0        skoda  \n",
       "4         1.2         ford  "
      ]
     },
     "execution_count": 2,
     "metadata": {},
     "output_type": "execute_result"
    }
   ],
   "source": [
    "import pandas as pd\n",
    "data = pd.read_csv('CarsData.csv')\n",
    "data.head()"
   ]
  },
  {
   "cell_type": "code",
   "execution_count": 3,
   "id": "93e05606",
   "metadata": {},
   "outputs": [],
   "source": [
    "# 选取两个主要制造商进行分析\n",
    "manufacturers = data['Manufacturer'].value_counts().index[:2]\n",
    "manuf1, manuf2 = manufacturers\n",
    "\n",
    "# 从数据中筛选出这两个制造商的车型\n",
    "models_manuf1 = set(data[data['Manufacturer'] == manuf1]['model'])\n",
    "models_manuf2 = set(data[data['Manufacturer'] == manuf2]['model'])"
   ]
  },
  {
   "cell_type": "markdown",
   "id": "0c258053",
   "metadata": {},
   "source": [
    "# 聯集"
   ]
  },
  {
   "cell_type": "code",
   "execution_count": 4,
   "id": "b59874ab",
   "metadata": {},
   "outputs": [
    {
     "name": "stdout",
     "output_type": "stream",
     "text": [
      "所有車型（聯集）: {' T-Roc', ' Tiguan Allspace', ' CC', ' Galaxy', ' Touareg', ' C-MAX', ' KA', ' Streetka', ' Golf', ' Passat', ' Polo', ' Shuttle', ' Caddy Life', ' Ranger', ' Scirocco', ' Kuga', ' Eos', ' Tourneo Custom', ' Tourneo Connect', ' Up', ' Mustang', ' Tiguan', ' Golf SV', ' Fox', ' Caddy Maxi', ' Edge', ' Ka+', ' Amarok', ' B-MAX', ' S-MAX', ' Grand Tourneo Connect', ' Puma', ' Mondeo', ' Transit Tourneo', ' Fiesta', ' Touran', ' Caravelle', ' Fusion', ' Jetta', ' Focus', ' California', ' T-Cross', ' Caddy Maxi Life', ' Beetle', ' Escort', ' Sharan', ' Grand C-MAX', ' EcoSport', ' Arteon', ' Caddy'}\n"
     ]
    }
   ],
   "source": [
    "all_models = models_manuf1 | models_manuf2\n",
    "print(f\"所有車型（聯集）: {all_models}\")"
   ]
  },
  {
   "cell_type": "markdown",
   "id": "dd0a546c",
   "metadata": {},
   "source": [
    "# 差集"
   ]
  },
  {
   "cell_type": "code",
   "execution_count": 5,
   "id": "ea5b9f3d",
   "metadata": {},
   "outputs": [
    {
     "name": "stdout",
     "output_type": "stream",
     "text": [
      "ford 独有车型: {' Galaxy', ' C-MAX', ' Streetka', ' KA', ' Ranger', ' Kuga', ' Tourneo Custom', ' Tourneo Connect', ' Mustang', ' Edge', ' Ka+', ' B-MAX', ' S-MAX', ' Grand Tourneo Connect', ' Puma', ' Mondeo', ' Transit Tourneo', ' Fiesta', ' Fusion', ' Focus', ' Escort', ' Grand C-MAX', ' EcoSport'}\n"
     ]
    }
   ],
   "source": [
    "unique_models_manuf1 = models_manuf1 - models_manuf2\n",
    "print(f\"{manuf1} 独有车型: {unique_models_manuf1}\")"
   ]
  },
  {
   "cell_type": "code",
   "execution_count": 6,
   "id": "65519a63",
   "metadata": {},
   "outputs": [
    {
     "name": "stdout",
     "output_type": "stream",
     "text": [
      "volkswagen 独有车型: {' T-Roc', ' Tiguan Allspace', ' CC', ' Touareg', ' Golf', ' Passat', ' Polo', ' Shuttle', ' Caddy Life', ' Scirocco', ' Eos', ' Up', ' Tiguan', ' Golf SV', ' Fox', ' Caddy Maxi', ' Amarok', ' Caravelle', ' Touran', ' Jetta', ' California', ' T-Cross', ' Caddy Maxi Life', ' Beetle', ' Sharan', ' Arteon', ' Caddy'}\n"
     ]
    }
   ],
   "source": [
    "unique_models_manuf2 = models_manuf2 - models_manuf1\n",
    "print(f\"{manuf2} 独有车型: {unique_models_manuf2}\")"
   ]
  },
  {
   "cell_type": "markdown",
   "id": "75e05dff",
   "metadata": {},
   "source": [
    "# 交集"
   ]
  },
  {
   "cell_type": "code",
   "execution_count": 7,
   "id": "49a95b4f",
   "metadata": {},
   "outputs": [
    {
     "name": "stdout",
     "output_type": "stream",
     "text": [
      "共有车型: set()\n"
     ]
    }
   ],
   "source": [
    "common_models = models_manuf1 & models_manuf2\n",
    "print(f\"共有车型: {common_models}\")"
   ]
  },
  {
   "cell_type": "markdown",
   "id": "fa0f82e5",
   "metadata": {},
   "source": [
    "# 分析結果\n",
    "\n",
    "從上述分析中，我們可以得出以下幾個結論：\n",
    "\n",
    "品牌差異性：Ford 和 Volkswagen 每個品牌都有其獨特的車型組合，這顯示了他們的市場策略和目標受眾可能有所不同。消費者在選擇車輛時可以根據這些獨特的車型範圍來考量哪個品牌更符合他們的需求。\n",
    "\n",
    "市場定位：缺乏共有車型可能意味著 Ford 和 Volkswagen 在市場上有著不同的定位，他們可能專注於不同的市場細分或消費者群體。\n",
    "\n",
    "車型選擇豐富：這兩個品牌合計提供了豐富的車型選擇，這為不同需求和預算的消費者提供了廣泛的選擇。"
   ]
  },
  {
   "cell_type": "code",
   "execution_count": 8,
   "id": "1bbfd572",
   "metadata": {},
   "outputs": [],
   "source": [
    "# 计算差集、交集和联集\n",
    "unique_models_manuf1 = models_manuf1 - models_manuf2\n",
    "unique_models_manuf2 = models_manuf2 - models_manuf1\n",
    "common_models = models_manuf1 & models_manuf2\n",
    "all_models = models_manuf1 | models_manuf2"
   ]
  },
  {
   "cell_type": "code",
   "execution_count": 9,
   "id": "66064454",
   "metadata": {},
   "outputs": [
    {
     "name": "stdout",
     "output_type": "stream",
     "text": [
      "ford 独有车型: {' Galaxy', ' C-MAX', ' Streetka', ' KA', ' Ranger', ' Kuga', ' Tourneo Custom', ' Tourneo Connect', ' Mustang', ' Edge', ' Ka+', ' B-MAX', ' S-MAX', ' Grand Tourneo Connect', ' Puma', ' Mondeo', ' Transit Tourneo', ' Fiesta', ' Fusion', ' Focus', ' Escort', ' Grand C-MAX', ' EcoSport'}\n",
      "volkswagen 独有车型: {' T-Roc', ' Tiguan Allspace', ' CC', ' Touareg', ' Golf', ' Passat', ' Polo', ' Shuttle', ' Caddy Life', ' Scirocco', ' Eos', ' Up', ' Tiguan', ' Golf SV', ' Fox', ' Caddy Maxi', ' Amarok', ' Caravelle', ' Touran', ' Jetta', ' California', ' T-Cross', ' Caddy Maxi Life', ' Beetle', ' Sharan', ' Arteon', ' Caddy'}\n",
      "共有车型: set()\n",
      "所有车型（联集）: {' T-Roc', ' Tiguan Allspace', ' CC', ' Galaxy', ' Touareg', ' C-MAX', ' KA', ' Streetka', ' Golf', ' Passat', ' Polo', ' Shuttle', ' Caddy Life', ' Ranger', ' Scirocco', ' Kuga', ' Eos', ' Tourneo Custom', ' Tourneo Connect', ' Up', ' Mustang', ' Tiguan', ' Golf SV', ' Fox', ' Caddy Maxi', ' Edge', ' Ka+', ' Amarok', ' B-MAX', ' S-MAX', ' Grand Tourneo Connect', ' Puma', ' Mondeo', ' Transit Tourneo', ' Fiesta', ' Touran', ' Caravelle', ' Fusion', ' Jetta', ' Focus', ' California', ' T-Cross', ' Caddy Maxi Life', ' Beetle', ' Escort', ' Sharan', ' Grand C-MAX', ' EcoSport', ' Arteon', ' Caddy'}\n"
     ]
    }
   ],
   "source": [
    "# 输出结果\n",
    "print(f\"{manuf1} 独有车型: {unique_models_manuf1}\")\n",
    "print(f\"{manuf2} 独有车型: {unique_models_manuf2}\")\n",
    "print(f\"共有车型: {common_models}\")\n",
    "print(f\"所有车型（联集）: {all_models}\")"
   ]
  },
  {
   "cell_type": "code",
   "execution_count": null,
   "id": "a01fbd88",
   "metadata": {},
   "outputs": [],
   "source": []
  }
 ],
 "metadata": {
  "kernelspec": {
   "display_name": "Python 3 (ipykernel)",
   "language": "python",
   "name": "python3"
  },
  "language_info": {
   "codemirror_mode": {
    "name": "ipython",
    "version": 3
   },
   "file_extension": ".py",
   "mimetype": "text/x-python",
   "name": "python",
   "nbconvert_exporter": "python",
   "pygments_lexer": "ipython3",
   "version": "3.11.5"
  }
 },
 "nbformat": 4,
 "nbformat_minor": 5
}
